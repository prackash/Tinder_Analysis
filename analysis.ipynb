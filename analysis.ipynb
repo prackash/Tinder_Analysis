{
 "cells": [
  {
   "cell_type": "code",
   "execution_count": 8,
   "metadata": {},
   "outputs": [
    {
     "name": "stdout",
     "output_type": "stream",
     "text": [
      "                                 ID  Sum_App_Opens  No_Of_Days  \\\n",
      "0  00365a51cb920f38e3cbda41ab3135cb              0           0   \n",
      "1  0054c12d2889e9428e54a3fd06600bd3           4483         319   \n",
      "2  008c29d66d5975b0127132144576201f           8725         513   \n",
      "3  00b113ee72d90509f1ae8589044076ee           8438         656   \n",
      "4  00b74e27ad1cbb2ded8e907fcc49eaaf           6839         477   \n",
      "\n",
      "   No_Of_Conversations  LongestConversation  LongestConversationInDays  \\\n",
      "0                   12                   78                          3   \n",
      "1                  159                   43                         70   \n",
      "2                  162                   48                        200   \n",
      "3                    0                    0                          0   \n",
      "4                  739                  133                        684   \n",
      "\n",
      "   AverageConversationLength  AverageConversationLengthInDays  \\\n",
      "0                      13.17                             0.80   \n",
      "1                       3.87                             2.30   \n",
      "2                       4.51                             5.09   \n",
      "3                       0.00                             0.00   \n",
      "4                       8.56                            10.24   \n",
      "\n",
      "   MedianConversationLength  MedainConversationLengthInDays  ...  CreateDate  \\\n",
      "0                         9                        0.524780  ...  2021-06-07   \n",
      "1                         1                        0.000000  ...  2016-08-11   \n",
      "2                         2                        0.000081  ...  2019-08-31   \n",
      "3                         0                        0.000000  ...  2018-06-10   \n",
      "4                         3                        0.081134  ...  2016-01-01   \n",
      "\n",
      "   AgeFilterMin  AgeFilterMax  Gender  InterestedIn  Instagram  Spotify  \\\n",
      "0            20            34       M             F      False    False   \n",
      "1            20            32       M       M and F      False    False   \n",
      "2            18            30       M             F      False     True   \n",
      "3            18           100       M             F      False    False   \n",
      "4            21            35       M             F      False    False   \n",
      "\n",
      "   JobTitle UserAge EstimatedDurationSinceCreation  \n",
      "0   unknown    34.0                       0.416666  \n",
      "1   unknown    22.0                       5.250000  \n",
      "2   unknown    22.0                       2.250000  \n",
      "3   unknown    21.0                       3.416666  \n",
      "4   unknown    40.0                       5.833333  \n",
      "\n",
      "[5 rows x 29 columns]\n"
     ]
    },
    {
     "name": "stderr",
     "output_type": "stream",
     "text": [
      "C:\\Users\\my pc\\AppData\\Local\\Temp\\ipykernel_18448\\2842081252.py:11: UserWarning: pandas only supports SQLAlchemy connectable (engine/connection) or database string URI or sqlite3 DBAPI2 connection. Other DBAPI2 objects are not tested. Please consider using SQLAlchemy.\n",
      "  df = pd.read_sql_query('SELECT * FROM [dbo].[StageTinderData]', conn)\n"
     ]
    }
   ],
   "source": [
    "from dotenv import load_dotenv\n",
    "import os\n",
    "import pyodbc\n",
    "import pandas as pd\n",
    "load_dotenv(\"server.env\")\n",
    "server = os.getenv('DB_SERVER')\n",
    "database = os.getenv('DB_NAME')\n",
    "conn = pyodbc.connect('DRIVER={ODBC Driver 17 for SQL Server};SERVER='+server+';DATABASE='+database+';Trusted_Connection=yes;')\n",
    "\n",
    "\n",
    "df = pd.read_sql_query('SELECT * FROM [dbo].[StageTinderData]', conn)\n",
    "print(df.head())\n",
    "conn.close()\n",
    "# print(server)\n",
    "# print(database)"
   ]
  },
  {
   "cell_type": "code",
   "execution_count": 11,
   "metadata": {},
   "outputs": [
    {
     "data": {
      "text/plain": [
       "(1209, 29)"
      ]
     },
     "execution_count": 11,
     "metadata": {},
     "output_type": "execute_result"
    }
   ],
   "source": [
    "df.shape"
   ]
  },
  {
   "cell_type": "code",
   "execution_count": null,
   "metadata": {},
   "outputs": [],
   "source": []
  },
  {
   "cell_type": "code",
   "execution_count": null,
   "metadata": {},
   "outputs": [],
   "source": []
  }
 ],
 "metadata": {
  "kernelspec": {
   "display_name": "DataAnalysis",
   "language": "python",
   "name": "python3"
  },
  "language_info": {
   "codemirror_mode": {
    "name": "ipython",
    "version": 3
   },
   "file_extension": ".py",
   "mimetype": "text/x-python",
   "name": "python",
   "nbconvert_exporter": "python",
   "pygments_lexer": "ipython3",
   "version": "3.12.8"
  }
 },
 "nbformat": 4,
 "nbformat_minor": 2
}
