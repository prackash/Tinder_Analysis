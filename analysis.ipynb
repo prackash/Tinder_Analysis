{
 "cells": [
  {
   "cell_type": "code",
   "execution_count": 8,
   "metadata": {},
   "outputs": [
    {
     "name": "stdout",
     "output_type": "stream",
     "text": [
      "                                 ID  Sum_App_Opens  No_Of_Days  \\\n",
      "0  00365a51cb920f38e3cbda41ab3135cb              0           0   \n",
      "1  0054c12d2889e9428e54a3fd06600bd3           4483         319   \n",
      "2  008c29d66d5975b0127132144576201f           8725         513   \n",
      "3  00b113ee72d90509f1ae8589044076ee           8438         656   \n",
      "4  00b74e27ad1cbb2ded8e907fcc49eaaf           6839         477   \n",
      "\n",
      "   No_Of_Conversations  LongestConversation  LongestConversationInDays  \\\n",
      "0                   12                   78                          3   \n",
      "1                  159                   43                         70   \n",
      "2                  162                   48                        200   \n",
      "3                    0                    0                          0   \n",
      "4                  739                  133                        684   \n",
      "\n",
      "   AverageConversationLength  AverageConversationLengthInDays  \\\n",
      "0                      13.17                             0.80   \n",
      "1                       3.87                             2.30   \n",
      "2                       4.51                             5.09   \n",
      "3                       0.00                             0.00   \n",
      "4                       8.56                            10.24   \n",
      "\n",
      "   MedianConversationLength  MedainConversationLengthInDays  ...  CreateDate  \\\n",
      "0                         9                        0.524780  ...  2021-06-07   \n",
      "1                         1                        0.000000  ...  2016-08-11   \n",
      "2                         2                        0.000081  ...  2019-08-31   \n",
      "3                         0                        0.000000  ...  2018-06-10   \n",
      "4                         3                        0.081134  ...  2016-01-01   \n",
      "\n",
      "   AgeFilterMin  AgeFilterMax  Gender  InterestedIn  Instagram  Spotify  \\\n",
      "0            20            34       M             F      False    False   \n",
      "1            20            32       M       M and F      False    False   \n",
      "2            18            30       M             F      False     True   \n",
      "3            18           100       M             F      False    False   \n",
      "4            21            35       M             F      False    False   \n",
      "\n",
      "   JobTitle UserAge EstimatedDurationSinceCreation  \n",
      "0   unknown    34.0                       0.416666  \n",
      "1   unknown    22.0                       5.250000  \n",
      "2   unknown    22.0                       2.250000  \n",
      "3   unknown    21.0                       3.416666  \n",
      "4   unknown    40.0                       5.833333  \n",
      "\n",
      "[5 rows x 29 columns]\n"
     ]
    },
    {
     "name": "stderr",
     "output_type": "stream",
     "text": [
      "C:\\Users\\my pc\\AppData\\Local\\Temp\\ipykernel_18448\\2842081252.py:11: UserWarning: pandas only supports SQLAlchemy connectable (engine/connection) or database string URI or sqlite3 DBAPI2 connection. Other DBAPI2 objects are not tested. Please consider using SQLAlchemy.\n",
      "  df = pd.read_sql_query('SELECT * FROM [dbo].[StageTinderData]', conn)\n"
     ]
    }
   ],
   "source": [
    "from dotenv import load_dotenv\n",
    "import os\n",
    "import pyodbc\n",
    "import pandas as pd\n",
    "load_dotenv(\"server.env\")\n",
    "server = os.getenv('DB_SERVER')\n",
    "database = os.getenv('DB_NAME')\n",
    "conn = pyodbc.connect('DRIVER={ODBC Driver 17 for SQL Server};SERVER='+server+';DATABASE='+database+';Trusted_Connection=yes;')\n",
    "\n",
    "\n",
    "df = pd.read_sql_query('SELECT * FROM [dbo].[StageTinderData]', conn)\n",
    "print(df.head())\n",
    "conn.close()\n",
    "# print(server)\n",
    "# print(database)"
   ]
  },
  {
   "cell_type": "code",
   "execution_count": 14,
   "metadata": {},
   "outputs": [
    {
     "name": "stdout",
     "output_type": "stream",
     "text": [
      "(1209, 29) Index(['ID', 'Sum_App_Opens', 'No_Of_Days', 'No_Of_Conversations',\n",
      "       'LongestConversation', 'LongestConversationInDays',\n",
      "       'AverageConversationLength', 'AverageConversationLengthInDays',\n",
      "       'MedianConversationLength', 'MedainConversationLengthInDays',\n",
      "       'No_Of_One_Message_Conversations', 'PercentOfOneMessageConversations',\n",
      "       'No_Of_GhostingsAfterInitialMessage', 'No_Of_Matches',\n",
      "       'No_Of_Messages_Sent', 'No_Of_Messages_Received', 'Swipe_Likes',\n",
      "       'Swipe_Passes', 'BirthDate', 'CreateDate', 'AgeFilterMin',\n",
      "       'AgeFilterMax', 'Gender', 'InterestedIn', 'Instagram', 'Spotify',\n",
      "       'JobTitle', 'UserAge', 'EstimatedDurationSinceCreation'],\n",
      "      dtype='object')\n"
     ]
    }
   ],
   "source": [
    "print(df.shape,df.columns)"
   ]
  },
  {
   "cell_type": "code",
   "execution_count": 16,
   "metadata": {},
   "outputs": [
    {
     "name": "stdout",
     "output_type": "stream",
     "text": [
      "ID                                    1209\n",
      "Sum_App_Opens                          927\n",
      "No_Of_Days                             595\n",
      "No_Of_Conversations                    449\n",
      "LongestConversation                    356\n",
      "LongestConversationInDays              394\n",
      "AverageConversationLength              826\n",
      "AverageConversationLengthInDays        605\n",
      "MedianConversationLength                35\n",
      "MedainConversationLengthInDays         729\n",
      "No_Of_One_Message_Conversations        246\n",
      "PercentOfOneMessageConversations       745\n",
      "No_Of_GhostingsAfterInitialMessage     157\n",
      "No_Of_Matches                          563\n",
      "No_Of_Messages_Sent                    867\n",
      "No_Of_Messages_Received                868\n",
      "Swipe_Likes                            952\n",
      "Swipe_Passes                           969\n",
      "BirthDate                             1071\n",
      "CreateDate                             879\n",
      "AgeFilterMin                            20\n",
      "AgeFilterMax                            46\n",
      "Gender                                   2\n",
      "InterestedIn                             3\n",
      "Instagram                                2\n",
      "Spotify                                  2\n",
      "JobTitle                               314\n",
      "UserAge                                 39\n",
      "EstimatedDurationSinceCreation         105\n",
      "dtype: int64\n"
     ]
    }
   ],
   "source": [
    "print(df.nunique())"
   ]
  },
  {
   "cell_type": "code",
   "execution_count": 17,
   "metadata": {},
   "outputs": [
    {
     "data": {
      "text/plain": [
       "ID                                     0\n",
       "Sum_App_Opens                          0\n",
       "No_Of_Days                             0\n",
       "No_Of_Conversations                    0\n",
       "LongestConversation                    0\n",
       "LongestConversationInDays              0\n",
       "AverageConversationLength              0\n",
       "AverageConversationLengthInDays        0\n",
       "MedianConversationLength               0\n",
       "MedainConversationLengthInDays         0\n",
       "No_Of_One_Message_Conversations        0\n",
       "PercentOfOneMessageConversations       0\n",
       "No_Of_GhostingsAfterInitialMessage     0\n",
       "No_Of_Matches                          0\n",
       "No_Of_Messages_Sent                    0\n",
       "No_Of_Messages_Received                0\n",
       "Swipe_Likes                            0\n",
       "Swipe_Passes                           0\n",
       "BirthDate                              0\n",
       "CreateDate                             0\n",
       "AgeFilterMin                           0\n",
       "AgeFilterMax                           0\n",
       "Gender                                 0\n",
       "InterestedIn                           0\n",
       "Instagram                              0\n",
       "Spotify                                0\n",
       "JobTitle                               0\n",
       "UserAge                               11\n",
       "EstimatedDurationSinceCreation         0\n",
       "dtype: int64"
      ]
     },
     "execution_count": 17,
     "metadata": {},
     "output_type": "execute_result"
    }
   ],
   "source": [
    "df.isnull().sum()"
   ]
  },
  {
   "cell_type": "code",
   "execution_count": 28,
   "metadata": {},
   "outputs": [
    {
     "data": {
      "text/html": [
       "<div>\n",
       "<style scoped>\n",
       "    .dataframe tbody tr th:only-of-type {\n",
       "        vertical-align: middle;\n",
       "    }\n",
       "\n",
       "    .dataframe tbody tr th {\n",
       "        vertical-align: top;\n",
       "    }\n",
       "\n",
       "    .dataframe thead th {\n",
       "        text-align: right;\n",
       "    }\n",
       "</style>\n",
       "<table border=\"1\" class=\"dataframe\">\n",
       "  <thead>\n",
       "    <tr style=\"text-align: right;\">\n",
       "      <th></th>\n",
       "      <th>BirthDate</th>\n",
       "      <th>CreateDate</th>\n",
       "      <th>EstimatedDurationSinceCreation</th>\n",
       "    </tr>\n",
       "  </thead>\n",
       "  <tbody>\n",
       "    <tr>\n",
       "      <th>42</th>\n",
       "      <td>1986-11-30</td>\n",
       "      <td>2020-08-09</td>\n",
       "      <td>1.250000</td>\n",
       "    </tr>\n",
       "    <tr>\n",
       "      <th>49</th>\n",
       "      <td>1996-10-12</td>\n",
       "      <td>2020-09-15</td>\n",
       "      <td>1.166666</td>\n",
       "    </tr>\n",
       "    <tr>\n",
       "      <th>348</th>\n",
       "      <td>1991-12-06</td>\n",
       "      <td>2020-09-12</td>\n",
       "      <td>1.166666</td>\n",
       "    </tr>\n",
       "    <tr>\n",
       "      <th>416</th>\n",
       "      <td>1990-02-25</td>\n",
       "      <td>2019-09-04</td>\n",
       "      <td>2.166666</td>\n",
       "    </tr>\n",
       "    <tr>\n",
       "      <th>646</th>\n",
       "      <td>1996-12-11</td>\n",
       "      <td>2018-04-07</td>\n",
       "      <td>3.583333</td>\n",
       "    </tr>\n",
       "    <tr>\n",
       "      <th>738</th>\n",
       "      <td>1996-11-11</td>\n",
       "      <td>2015-09-09</td>\n",
       "      <td>6.166666</td>\n",
       "    </tr>\n",
       "    <tr>\n",
       "      <th>818</th>\n",
       "      <td>1993-10-06</td>\n",
       "      <td>2021-08-13</td>\n",
       "      <td>0.250000</td>\n",
       "    </tr>\n",
       "    <tr>\n",
       "      <th>941</th>\n",
       "      <td>1999-04-26</td>\n",
       "      <td>2014-11-04</td>\n",
       "      <td>7.000000</td>\n",
       "    </tr>\n",
       "    <tr>\n",
       "      <th>1136</th>\n",
       "      <td>1995-12-19</td>\n",
       "      <td>2020-08-25</td>\n",
       "      <td>1.250000</td>\n",
       "    </tr>\n",
       "    <tr>\n",
       "      <th>1195</th>\n",
       "      <td>1967-01-01</td>\n",
       "      <td>2018-07-02</td>\n",
       "      <td>3.333333</td>\n",
       "    </tr>\n",
       "    <tr>\n",
       "      <th>1197</th>\n",
       "      <td>1991-12-12</td>\n",
       "      <td>2020-11-13</td>\n",
       "      <td>1.000000</td>\n",
       "    </tr>\n",
       "  </tbody>\n",
       "</table>\n",
       "</div>"
      ],
      "text/plain": [
       "      BirthDate CreateDate  EstimatedDurationSinceCreation\n",
       "42   1986-11-30 2020-08-09                        1.250000\n",
       "49   1996-10-12 2020-09-15                        1.166666\n",
       "348  1991-12-06 2020-09-12                        1.166666\n",
       "416  1990-02-25 2019-09-04                        2.166666\n",
       "646  1996-12-11 2018-04-07                        3.583333\n",
       "738  1996-11-11 2015-09-09                        6.166666\n",
       "818  1993-10-06 2021-08-13                        0.250000\n",
       "941  1999-04-26 2014-11-04                        7.000000\n",
       "1136 1995-12-19 2020-08-25                        1.250000\n",
       "1195 1967-01-01 2018-07-02                        3.333333\n",
       "1197 1991-12-12 2020-11-13                        1.000000"
      ]
     },
     "execution_count": 28,
     "metadata": {},
     "output_type": "execute_result"
    }
   ],
   "source": [
    "df.loc[df['UserAge'].isnull(),['BirthDate','CreateDate','EstimatedDurationSinceCreation']]"
   ]
  },
  {
   "cell_type": "code",
   "execution_count": 29,
   "metadata": {},
   "outputs": [],
   "source": [
    "mask = df[\"UserAge\"].isnull()\n",
    "df.loc[mask, \"UserAge\"] = df.loc[mask, \"CreateDate\"].dt.year - df.loc[mask, \"BirthDate\"].dt.year + df.loc[mask, \"EstimatedDurationSinceCreation\"]-(df.loc[mask, \"CreateDate\"].dt.month < df.loc[mask, \"BirthDate\"].dt.month)   "
   ]
  },
  {
   "cell_type": "code",
   "execution_count": 34,
   "metadata": {},
   "outputs": [],
   "source": [
    "import numpy as np\n",
    "df[\"UserAge\"]=np.floor(df[\"UserAge\"]).astype(int)"
   ]
  },
  {
   "cell_type": "code",
   "execution_count": null,
   "metadata": {},
   "outputs": [],
   "source": [
    "male=df.loc[df[\"Gender\"]==\"M\"]\n",
    "female=df.loc[df[\"Gender\"]==\"F\"]"
   ]
  },
  {
   "cell_type": "code",
   "execution_count": 48,
   "metadata": {},
   "outputs": [
    {
     "name": "stdout",
     "output_type": "stream",
     "text": [
      "(1059, 29)\n",
      "and\n",
      "(150, 29)\n",
      "male to female ratio :  7.06\n"
     ]
    }
   ],
   "source": [
    "print(male.shape, \"and\", female.shape,sep=\"\\n\")\n",
    "print(\"male to female ratio : \", male.shape[0]/female.shape[0] if female.shape[0]!=0 else \"inf\")"
   ]
  },
  {
   "cell_type": "code",
   "execution_count": 51,
   "metadata": {},
   "outputs": [
    {
     "name": "stderr",
     "output_type": "stream",
     "text": [
      "C:\\Users\\my pc\\AppData\\Local\\Temp\\ipykernel_18448\\2073104683.py:1: SettingWithCopyWarning: \n",
      "A value is trying to be set on a copy of a slice from a DataFrame\n",
      "\n",
      "See the caveats in the documentation: https://pandas.pydata.org/pandas-docs/stable/user_guide/indexing.html#returning-a-view-versus-a-copy\n",
      "  male.drop(columns=[\"Gender\"],inplace=True)\n"
     ]
    }
   ],
   "source": [
    "male.drop(columns=[\"Gender\"],inplace=True)"
   ]
  },
  {
   "cell_type": "code",
   "execution_count": 65,
   "metadata": {},
   "outputs": [
    {
     "name": "stderr",
     "output_type": "stream",
     "text": [
      "C:\\Users\\my pc\\AppData\\Local\\Temp\\ipykernel_18448\\3004315740.py:1: SettingWithCopyWarning: \n",
      "A value is trying to be set on a copy of a slice from a DataFrame.\n",
      "Try using .loc[row_indexer,col_indexer] = value instead\n",
      "\n",
      "See the caveats in the documentation: https://pandas.pydata.org/pandas-docs/stable/user_guide/indexing.html#returning-a-view-versus-a-copy\n",
      "  male[\"Orientation\"] = \"HeteroSexual\"\n"
     ]
    }
   ],
   "source": [
    "male[\"Orientation\"] = \"HeteroSexual\""
   ]
  },
  {
   "cell_type": "code",
   "execution_count": 66,
   "metadata": {},
   "outputs": [],
   "source": [
    "orientationMask= male[\"InterestedIn\"]!=\"F\"\n",
    "male.loc[orientationMask,\"Orientation\"]=\"HomoSexual\""
   ]
  },
  {
   "cell_type": "code",
   "execution_count": 76,
   "metadata": {},
   "outputs": [
    {
     "data": {
      "text/plain": [
       "<Axes: title={'center': 'Orientation'}, ylabel='count'>"
      ]
     },
     "execution_count": 76,
     "metadata": {},
     "output_type": "execute_result"
    },
    {
     "data": {
      "image/png": "[encoded data removed]",
      "text/plain": [
       "<Figure size 640x480 with 1 Axes>"
      ]
     },
     "metadata": {},
     "output_type": "display_data"
    }
   ],
   "source": [
    "# male[\"Orientation\"].plot(kind=\"pie\",labels=df[\"Orientation\"].unique(),autopct='%1.1f%%', title=\"Orientation\")\n",
    "male[\"Orientation\"].value_counts().plot(kind=\"pie\",autopct='%1.1f%%',title=\"Orientation\") "
   ]
  },
  {
   "cell_type": "code",
   "execution_count": 67,
   "metadata": {},
   "outputs": [
    {
     "name": "stderr",
     "output_type": "stream",
     "text": [
      "C:\\Users\\my pc\\AppData\\Local\\Temp\\ipykernel_18448\\2097246122.py:1: SettingWithCopyWarning: \n",
      "A value is trying to be set on a copy of a slice from a DataFrame.\n",
      "Try using .loc[row_indexer,col_indexer] = value instead\n",
      "\n",
      "See the caveats in the documentation: https://pandas.pydata.org/pandas-docs/stable/user_guide/indexing.html#returning-a-view-versus-a-copy\n",
      "  female[\"Orientation\"] = \"HeteroSexual\"\n"
     ]
    }
   ],
   "source": [
    "female[\"Orientation\"] = \"HeteroSexual\"\n",
    "orientationMask= female[\"InterestedIn\"]!=\"M\"\n",
    "female.loc[orientationMask,\"Orientation\"]=\"HomoSexual\""
   ]
  },
  {
   "cell_type": "code",
   "execution_count": 80,
   "metadata": {},
   "outputs": [
    {
     "data": {
      "text/plain": [
       "<Axes: title={'center': 'Orientation'}, ylabel='count'>"
      ]
     },
     "execution_count": 80,
     "metadata": {},
     "output_type": "execute_result"
    },
    {
     "data": {
      "image/png": "[encoded data removed]",
      "text/plain": [
       "<Figure size 640x480 with 1 Axes>"
      ]
     },
     "metadata": {},
     "output_type": "display_data"
    }
   ],
   "source": [
    "female[\"Orientation\"].value_counts().plot(kind=\"pie\",title=\"Orientation\",autopct='%1.1f%%') "
   ]
  },
  {
   "cell_type": "code",
   "execution_count": 107,
   "metadata": {},
   "outputs": [],
   "source": [
    "sMale=male[male[\"Orientation\"]==\"HeteroSexual\"]"
   ]
  },
  {
   "cell_type": "code",
   "execution_count": 108,
   "metadata": {},
   "outputs": [
    {
     "data": {
      "text/html": [
       "<div>\n",
       "<style scoped>\n",
       "    .dataframe tbody tr th:only-of-type {\n",
       "        vertical-align: middle;\n",
       "    }\n",
       "\n",
       "    .dataframe tbody tr th {\n",
       "        vertical-align: top;\n",
       "    }\n",
       "\n",
       "    .dataframe thead th {\n",
       "        text-align: right;\n",
       "    }\n",
       "</style>\n",
       "<table border=\"1\" class=\"dataframe\">\n",
       "  <thead>\n",
       "    <tr style=\"text-align: right;\">\n",
       "      <th></th>\n",
       "      <th>ID</th>\n",
       "      <th>Sum_App_Opens</th>\n",
       "      <th>No_Of_Days</th>\n",
       "      <th>No_Of_Conversations</th>\n",
       "      <th>LongestConversation</th>\n",
       "      <th>LongestConversationInDays</th>\n",
       "      <th>AverageConversationLength</th>\n",
       "      <th>AverageConversationLengthInDays</th>\n",
       "      <th>MedianConversationLength</th>\n",
       "      <th>MedainConversationLengthInDays</th>\n",
       "      <th>...</th>\n",
       "      <th>CreateDate</th>\n",
       "      <th>AgeFilterMin</th>\n",
       "      <th>AgeFilterMax</th>\n",
       "      <th>InterestedIn</th>\n",
       "      <th>Instagram</th>\n",
       "      <th>Spotify</th>\n",
       "      <th>JobTitle</th>\n",
       "      <th>UserAge</th>\n",
       "      <th>EstimatedDurationSinceCreation</th>\n",
       "      <th>Orientation</th>\n",
       "    </tr>\n",
       "  </thead>\n",
       "  <tbody>\n",
       "    <tr>\n",
       "      <th>0</th>\n",
       "      <td>00365a51cb920f38e3cbda41ab3135cb</td>\n",
       "      <td>0</td>\n",
       "      <td>0</td>\n",
       "      <td>12</td>\n",
       "      <td>78</td>\n",
       "      <td>3</td>\n",
       "      <td>13.17</td>\n",
       "      <td>0.80</td>\n",
       "      <td>9</td>\n",
       "      <td>0.524780</td>\n",
       "      <td>...</td>\n",
       "      <td>2021-06-07</td>\n",
       "      <td>20</td>\n",
       "      <td>34</td>\n",
       "      <td>F</td>\n",
       "      <td>False</td>\n",
       "      <td>False</td>\n",
       "      <td>unknown</td>\n",
       "      <td>34</td>\n",
       "      <td>0.416666</td>\n",
       "      <td>HeteroSexual</td>\n",
       "    </tr>\n",
       "    <tr>\n",
       "      <th>2</th>\n",
       "      <td>008c29d66d5975b0127132144576201f</td>\n",
       "      <td>8725</td>\n",
       "      <td>513</td>\n",
       "      <td>162</td>\n",
       "      <td>48</td>\n",
       "      <td>200</td>\n",
       "      <td>4.51</td>\n",
       "      <td>5.09</td>\n",
       "      <td>2</td>\n",
       "      <td>0.000081</td>\n",
       "      <td>...</td>\n",
       "      <td>2019-08-31</td>\n",
       "      <td>18</td>\n",
       "      <td>30</td>\n",
       "      <td>F</td>\n",
       "      <td>False</td>\n",
       "      <td>True</td>\n",
       "      <td>unknown</td>\n",
       "      <td>22</td>\n",
       "      <td>2.250000</td>\n",
       "      <td>HeteroSexual</td>\n",
       "    </tr>\n",
       "    <tr>\n",
       "      <th>3</th>\n",
       "      <td>00b113ee72d90509f1ae8589044076ee</td>\n",
       "      <td>8438</td>\n",
       "      <td>656</td>\n",
       "      <td>0</td>\n",
       "      <td>0</td>\n",
       "      <td>0</td>\n",
       "      <td>0.00</td>\n",
       "      <td>0.00</td>\n",
       "      <td>0</td>\n",
       "      <td>0.000000</td>\n",
       "      <td>...</td>\n",
       "      <td>2018-06-10</td>\n",
       "      <td>18</td>\n",
       "      <td>100</td>\n",
       "      <td>F</td>\n",
       "      <td>False</td>\n",
       "      <td>False</td>\n",
       "      <td>unknown</td>\n",
       "      <td>21</td>\n",
       "      <td>3.416666</td>\n",
       "      <td>HeteroSexual</td>\n",
       "    </tr>\n",
       "    <tr>\n",
       "      <th>4</th>\n",
       "      <td>00b74e27ad1cbb2ded8e907fcc49eaaf</td>\n",
       "      <td>6839</td>\n",
       "      <td>477</td>\n",
       "      <td>739</td>\n",
       "      <td>133</td>\n",
       "      <td>684</td>\n",
       "      <td>8.56</td>\n",
       "      <td>10.24</td>\n",
       "      <td>3</td>\n",
       "      <td>0.081134</td>\n",
       "      <td>...</td>\n",
       "      <td>2016-01-01</td>\n",
       "      <td>21</td>\n",
       "      <td>35</td>\n",
       "      <td>F</td>\n",
       "      <td>False</td>\n",
       "      <td>False</td>\n",
       "      <td>unknown</td>\n",
       "      <td>40</td>\n",
       "      <td>5.833333</td>\n",
       "      <td>HeteroSexual</td>\n",
       "    </tr>\n",
       "    <tr>\n",
       "      <th>5</th>\n",
       "      <td>00ff275ea954e6564836e1375c31ce25</td>\n",
       "      <td>1856</td>\n",
       "      <td>360</td>\n",
       "      <td>114</td>\n",
       "      <td>59</td>\n",
       "      <td>14</td>\n",
       "      <td>11.06</td>\n",
       "      <td>1.45</td>\n",
       "      <td>7</td>\n",
       "      <td>0.134178</td>\n",
       "      <td>...</td>\n",
       "      <td>2019-12-16</td>\n",
       "      <td>20</td>\n",
       "      <td>24</td>\n",
       "      <td>F</td>\n",
       "      <td>False</td>\n",
       "      <td>True</td>\n",
       "      <td>unknown</td>\n",
       "      <td>19</td>\n",
       "      <td>1.916666</td>\n",
       "      <td>HeteroSexual</td>\n",
       "    </tr>\n",
       "  </tbody>\n",
       "</table>\n",
       "<p>5 rows × 29 columns</p>\n",
       "</div>"
      ],
      "text/plain": [
       "                                 ID  Sum_App_Opens  No_Of_Days  \\\n",
       "0  00365a51cb920f38e3cbda41ab3135cb              0           0   \n",
       "2  008c29d66d5975b0127132144576201f           8725         513   \n",
       "3  00b113ee72d90509f1ae8589044076ee           8438         656   \n",
       "4  00b74e27ad1cbb2ded8e907fcc49eaaf           6839         477   \n",
       "5  00ff275ea954e6564836e1375c31ce25           1856         360   \n",
       "\n",
       "   No_Of_Conversations  LongestConversation  LongestConversationInDays  \\\n",
       "0                   12                   78                          3   \n",
       "2                  162                   48                        200   \n",
       "3                    0                    0                          0   \n",
       "4                  739                  133                        684   \n",
       "5                  114                   59                         14   \n",
       "\n",
       "   AverageConversationLength  AverageConversationLengthInDays  \\\n",
       "0                      13.17                             0.80   \n",
       "2                       4.51                             5.09   \n",
       "3                       0.00                             0.00   \n",
       "4                       8.56                            10.24   \n",
       "5                      11.06                             1.45   \n",
       "\n",
       "   MedianConversationLength  MedainConversationLengthInDays  ...  CreateDate  \\\n",
       "0                         9                        0.524780  ...  2021-06-07   \n",
       "2                         2                        0.000081  ...  2019-08-31   \n",
       "3                         0                        0.000000  ...  2018-06-10   \n",
       "4                         3                        0.081134  ...  2016-01-01   \n",
       "5                         7                        0.134178  ...  2019-12-16   \n",
       "\n",
       "   AgeFilterMin  AgeFilterMax  InterestedIn  Instagram  Spotify  JobTitle  \\\n",
       "0            20            34             F      False    False   unknown   \n",
       "2            18            30             F      False     True   unknown   \n",
       "3            18           100             F      False    False   unknown   \n",
       "4            21            35             F      False    False   unknown   \n",
       "5            20            24             F      False     True   unknown   \n",
       "\n",
       "   UserAge EstimatedDurationSinceCreation   Orientation  \n",
       "0       34                       0.416666  HeteroSexual  \n",
       "2       22                       2.250000  HeteroSexual  \n",
       "3       21                       3.416666  HeteroSexual  \n",
       "4       40                       5.833333  HeteroSexual  \n",
       "5       19                       1.916666  HeteroSexual  \n",
       "\n",
       "[5 rows x 29 columns]"
      ]
     },
     "execution_count": 108,
     "metadata": {},
     "output_type": "execute_result"
    }
   ],
   "source": [
    "sMale.head()"
   ]
  },
  {
   "cell_type": "code",
   "execution_count": 132,
   "metadata": {},
   "outputs": [
    {
     "data": {
      "text/plain": [
       "Index(['ID', 'Sum_App_Opens', 'No_Of_Days', 'No_Of_Conversations',\n",
       "       'LongestConversation', 'LongestConversationInDays',\n",
       "       'AverageConversationLength', 'AverageConversationLengthInDays',\n",
       "       'MedianConversationLength', 'MedainConversationLengthInDays',\n",
       "       'No_Of_One_Message_Conversations', 'PercentOfOneMessageConversations',\n",
       "       'No_Of_GhostingsAfterInitialMessage', 'No_Of_Matches',\n",
       "       'No_Of_Messages_Sent', 'No_Of_Messages_Received', 'Swipe_Likes',\n",
       "       'Swipe_Passes', 'BirthDate', 'CreateDate', 'AgeFilterMin',\n",
       "       'AgeFilterMax', 'JobTitle', 'UserAge',\n",
       "       'EstimatedDurationSinceCreation'],\n",
       "      dtype='object')"
      ]
     },
     "execution_count": 132,
     "metadata": {},
     "output_type": "execute_result"
    }
   ],
   "source": [
    "sMale.columns"
   ]
  },
  {
   "cell_type": "code",
   "execution_count": 138,
   "metadata": {},
   "outputs": [
    {
     "data": {
      "text/plain": [
       "ID                                     object\n",
       "Sum_App_Opens                           int64\n",
       "No_Of_Days                              int64\n",
       "No_Of_Conversations                     int64\n",
       "LongestConversation                     int64\n",
       "LongestConversationInDays               int64\n",
       "AverageConversationLength             float64\n",
       "AverageConversationLengthInDays       float64\n",
       "MedianConversationLength                int64\n",
       "MedainConversationLengthInDays        float64\n",
       "No_Of_One_Message_Conversations         int64\n",
       "PercentOfOneMessageConversations      float64\n",
       "No_Of_GhostingsAfterInitialMessage      int64\n",
       "No_Of_Matches                           int64\n",
       "No_Of_Messages_Sent                     int64\n",
       "No_Of_Messages_Received                 int64\n",
       "Swipe_Likes                             int64\n",
       "Swipe_Passes                            int64\n",
       "AgeFilterMin                            int64\n",
       "AgeFilterMax                            int64\n",
       "JobTitle                               object\n",
       "UserAge                                 int32\n",
       "EstimatedDurationSinceCreation        float64\n",
       "dtype: object"
      ]
     },
     "execution_count": 138,
     "metadata": {},
     "output_type": "execute_result"
    }
   ],
   "source": [
    "sMale.dtypes"
   ]
  },
  {
   "cell_type": "code",
   "execution_count": 135,
   "metadata": {},
   "outputs": [
    {
     "name": "stderr",
     "output_type": "stream",
     "text": [
      "C:\\Users\\my pc\\AppData\\Local\\Temp\\ipykernel_18448\\3542386990.py:1: SettingWithCopyWarning: \n",
      "A value is trying to be set on a copy of a slice from a DataFrame\n",
      "\n",
      "See the caveats in the documentation: https://pandas.pydata.org/pandas-docs/stable/user_guide/indexing.html#returning-a-view-versus-a-copy\n",
      "  sMale.drop(sMale[sMale[\"No_Of_Days\"]==0].index,inplace=True)\n"
     ]
    },
    {
     "ename": "KeyError",
     "evalue": "\"['InterestedIn', 'Orientation', 'Instagram', 'Spotify'] not found in axis\"",
     "output_type": "error",
     "traceback": [
      "\u001b[1;31m---------------------------------------------------------------------------\u001b[0m",
      "\u001b[1;31mKeyError\u001b[0m                                  Traceback (most recent call last)",
      "Cell \u001b[1;32mIn[135], line 2\u001b[0m\n\u001b[0;32m      1\u001b[0m sMale\u001b[38;5;241m.\u001b[39mdrop(sMale[sMale[\u001b[38;5;124m\"\u001b[39m\u001b[38;5;124mNo_Of_Days\u001b[39m\u001b[38;5;124m\"\u001b[39m]\u001b[38;5;241m==\u001b[39m\u001b[38;5;241m0\u001b[39m]\u001b[38;5;241m.\u001b[39mindex,inplace\u001b[38;5;241m=\u001b[39m\u001b[38;5;28;01mTrue\u001b[39;00m)\n\u001b[1;32m----> 2\u001b[0m \u001b[43msMale\u001b[49m\u001b[38;5;241;43m.\u001b[39;49m\u001b[43mdrop\u001b[49m\u001b[43m(\u001b[49m\u001b[43mcolumns\u001b[49m\u001b[38;5;241;43m=\u001b[39;49m\u001b[43m[\u001b[49m\u001b[38;5;124;43m\"\u001b[39;49m\u001b[38;5;124;43mInterestedIn\u001b[39;49m\u001b[38;5;124;43m\"\u001b[39;49m\u001b[43m,\u001b[49m\u001b[38;5;124;43m\"\u001b[39;49m\u001b[38;5;124;43mOrientation\u001b[39;49m\u001b[38;5;124;43m\"\u001b[39;49m\u001b[43m,\u001b[49m\u001b[38;5;124;43m\"\u001b[39;49m\u001b[38;5;124;43mInstagram\u001b[39;49m\u001b[38;5;124;43m\"\u001b[39;49m\u001b[43m,\u001b[49m\u001b[38;5;124;43m\"\u001b[39;49m\u001b[38;5;124;43mSpotify\u001b[39;49m\u001b[38;5;124;43m\"\u001b[39;49m\u001b[43m,\u001b[49m\u001b[38;5;124;43m\"\u001b[39;49m\u001b[38;5;124;43mBirthDate\u001b[39;49m\u001b[38;5;124;43m\"\u001b[39;49m\u001b[43m,\u001b[49m\u001b[38;5;124;43m\"\u001b[39;49m\u001b[38;5;124;43mCreateDate\u001b[39;49m\u001b[38;5;124;43m\"\u001b[39;49m\u001b[43m]\u001b[49m\u001b[43m,\u001b[49m\u001b[43minplace\u001b[49m\u001b[38;5;241;43m=\u001b[39;49m\u001b[38;5;28;43;01mTrue\u001b[39;49;00m\u001b[43m)\u001b[49m\n",
      "File \u001b[1;32mc:\\Users\\my pc\\.conda\\envs\\DataAnalysis\\Lib\\site-packages\\pandas\\core\\frame.py:5581\u001b[0m, in \u001b[0;36mDataFrame.drop\u001b[1;34m(self, labels, axis, index, columns, level, inplace, errors)\u001b[0m\n\u001b[0;32m   5433\u001b[0m \u001b[38;5;28;01mdef\u001b[39;00m\u001b[38;5;250m \u001b[39m\u001b[38;5;21mdrop\u001b[39m(\n\u001b[0;32m   5434\u001b[0m     \u001b[38;5;28mself\u001b[39m,\n\u001b[0;32m   5435\u001b[0m     labels: IndexLabel \u001b[38;5;241m|\u001b[39m \u001b[38;5;28;01mNone\u001b[39;00m \u001b[38;5;241m=\u001b[39m \u001b[38;5;28;01mNone\u001b[39;00m,\n\u001b[1;32m   (...)\u001b[0m\n\u001b[0;32m   5442\u001b[0m     errors: IgnoreRaise \u001b[38;5;241m=\u001b[39m \u001b[38;5;124m\"\u001b[39m\u001b[38;5;124mraise\u001b[39m\u001b[38;5;124m\"\u001b[39m,\n\u001b[0;32m   5443\u001b[0m ) \u001b[38;5;241m-\u001b[39m\u001b[38;5;241m>\u001b[39m DataFrame \u001b[38;5;241m|\u001b[39m \u001b[38;5;28;01mNone\u001b[39;00m:\n\u001b[0;32m   5444\u001b[0m \u001b[38;5;250m    \u001b[39m\u001b[38;5;124;03m\"\"\"\u001b[39;00m\n\u001b[0;32m   5445\u001b[0m \u001b[38;5;124;03m    Drop specified labels from rows or columns.\u001b[39;00m\n\u001b[0;32m   5446\u001b[0m \n\u001b[1;32m   (...)\u001b[0m\n\u001b[0;32m   5579\u001b[0m \u001b[38;5;124;03m            weight  1.0     0.8\u001b[39;00m\n\u001b[0;32m   5580\u001b[0m \u001b[38;5;124;03m    \"\"\"\u001b[39;00m\n\u001b[1;32m-> 5581\u001b[0m     \u001b[38;5;28;01mreturn\u001b[39;00m \u001b[38;5;28;43msuper\u001b[39;49m\u001b[43m(\u001b[49m\u001b[43m)\u001b[49m\u001b[38;5;241;43m.\u001b[39;49m\u001b[43mdrop\u001b[49m\u001b[43m(\u001b[49m\n\u001b[0;32m   5582\u001b[0m \u001b[43m        \u001b[49m\u001b[43mlabels\u001b[49m\u001b[38;5;241;43m=\u001b[39;49m\u001b[43mlabels\u001b[49m\u001b[43m,\u001b[49m\n\u001b[0;32m   5583\u001b[0m \u001b[43m        \u001b[49m\u001b[43maxis\u001b[49m\u001b[38;5;241;43m=\u001b[39;49m\u001b[43maxis\u001b[49m\u001b[43m,\u001b[49m\n\u001b[0;32m   5584\u001b[0m \u001b[43m        \u001b[49m\u001b[43mindex\u001b[49m\u001b[38;5;241;43m=\u001b[39;49m\u001b[43mindex\u001b[49m\u001b[43m,\u001b[49m\n\u001b[0;32m   5585\u001b[0m \u001b[43m        \u001b[49m\u001b[43mcolumns\u001b[49m\u001b[38;5;241;43m=\u001b[39;49m\u001b[43mcolumns\u001b[49m\u001b[43m,\u001b[49m\n\u001b[0;32m   5586\u001b[0m \u001b[43m        \u001b[49m\u001b[43mlevel\u001b[49m\u001b[38;5;241;43m=\u001b[39;49m\u001b[43mlevel\u001b[49m\u001b[43m,\u001b[49m\n\u001b[0;32m   5587\u001b[0m \u001b[43m        \u001b[49m\u001b[43minplace\u001b[49m\u001b[38;5;241;43m=\u001b[39;49m\u001b[43minplace\u001b[49m\u001b[43m,\u001b[49m\n\u001b[0;32m   5588\u001b[0m \u001b[43m        \u001b[49m\u001b[43merrors\u001b[49m\u001b[38;5;241;43m=\u001b[39;49m\u001b[43merrors\u001b[49m\u001b[43m,\u001b[49m\n\u001b[0;32m   5589\u001b[0m \u001b[43m    \u001b[49m\u001b[43m)\u001b[49m\n",
      "File \u001b[1;32mc:\\Users\\my pc\\.conda\\envs\\DataAnalysis\\Lib\\site-packages\\pandas\\core\\generic.py:4788\u001b[0m, in \u001b[0;36mNDFrame.drop\u001b[1;34m(self, labels, axis, index, columns, level, inplace, errors)\u001b[0m\n\u001b[0;32m   4786\u001b[0m \u001b[38;5;28;01mfor\u001b[39;00m axis, labels \u001b[38;5;129;01min\u001b[39;00m axes\u001b[38;5;241m.\u001b[39mitems():\n\u001b[0;32m   4787\u001b[0m     \u001b[38;5;28;01mif\u001b[39;00m labels \u001b[38;5;129;01mis\u001b[39;00m \u001b[38;5;129;01mnot\u001b[39;00m \u001b[38;5;28;01mNone\u001b[39;00m:\n\u001b[1;32m-> 4788\u001b[0m         obj \u001b[38;5;241m=\u001b[39m \u001b[43mobj\u001b[49m\u001b[38;5;241;43m.\u001b[39;49m\u001b[43m_drop_axis\u001b[49m\u001b[43m(\u001b[49m\u001b[43mlabels\u001b[49m\u001b[43m,\u001b[49m\u001b[43m \u001b[49m\u001b[43maxis\u001b[49m\u001b[43m,\u001b[49m\u001b[43m \u001b[49m\u001b[43mlevel\u001b[49m\u001b[38;5;241;43m=\u001b[39;49m\u001b[43mlevel\u001b[49m\u001b[43m,\u001b[49m\u001b[43m \u001b[49m\u001b[43merrors\u001b[49m\u001b[38;5;241;43m=\u001b[39;49m\u001b[43merrors\u001b[49m\u001b[43m)\u001b[49m\n\u001b[0;32m   4790\u001b[0m \u001b[38;5;28;01mif\u001b[39;00m inplace:\n\u001b[0;32m   4791\u001b[0m     \u001b[38;5;28mself\u001b[39m\u001b[38;5;241m.\u001b[39m_update_inplace(obj)\n",
      "File \u001b[1;32mc:\\Users\\my pc\\.conda\\envs\\DataAnalysis\\Lib\\site-packages\\pandas\\core\\generic.py:4830\u001b[0m, in \u001b[0;36mNDFrame._drop_axis\u001b[1;34m(self, labels, axis, level, errors, only_slice)\u001b[0m\n\u001b[0;32m   4828\u001b[0m         new_axis \u001b[38;5;241m=\u001b[39m axis\u001b[38;5;241m.\u001b[39mdrop(labels, level\u001b[38;5;241m=\u001b[39mlevel, errors\u001b[38;5;241m=\u001b[39merrors)\n\u001b[0;32m   4829\u001b[0m     \u001b[38;5;28;01melse\u001b[39;00m:\n\u001b[1;32m-> 4830\u001b[0m         new_axis \u001b[38;5;241m=\u001b[39m \u001b[43maxis\u001b[49m\u001b[38;5;241;43m.\u001b[39;49m\u001b[43mdrop\u001b[49m\u001b[43m(\u001b[49m\u001b[43mlabels\u001b[49m\u001b[43m,\u001b[49m\u001b[43m \u001b[49m\u001b[43merrors\u001b[49m\u001b[38;5;241;43m=\u001b[39;49m\u001b[43merrors\u001b[49m\u001b[43m)\u001b[49m\n\u001b[0;32m   4831\u001b[0m     indexer \u001b[38;5;241m=\u001b[39m axis\u001b[38;5;241m.\u001b[39mget_indexer(new_axis)\n\u001b[0;32m   4833\u001b[0m \u001b[38;5;66;03m# Case for non-unique axis\u001b[39;00m\n\u001b[0;32m   4834\u001b[0m \u001b[38;5;28;01melse\u001b[39;00m:\n",
      "File \u001b[1;32mc:\\Users\\my pc\\.conda\\envs\\DataAnalysis\\Lib\\site-packages\\pandas\\core\\indexes\\base.py:7070\u001b[0m, in \u001b[0;36mIndex.drop\u001b[1;34m(self, labels, errors)\u001b[0m\n\u001b[0;32m   7068\u001b[0m \u001b[38;5;28;01mif\u001b[39;00m mask\u001b[38;5;241m.\u001b[39many():\n\u001b[0;32m   7069\u001b[0m     \u001b[38;5;28;01mif\u001b[39;00m errors \u001b[38;5;241m!=\u001b[39m \u001b[38;5;124m\"\u001b[39m\u001b[38;5;124mignore\u001b[39m\u001b[38;5;124m\"\u001b[39m:\n\u001b[1;32m-> 7070\u001b[0m         \u001b[38;5;28;01mraise\u001b[39;00m \u001b[38;5;167;01mKeyError\u001b[39;00m(\u001b[38;5;124mf\u001b[39m\u001b[38;5;124m\"\u001b[39m\u001b[38;5;132;01m{\u001b[39;00mlabels[mask]\u001b[38;5;241m.\u001b[39mtolist()\u001b[38;5;132;01m}\u001b[39;00m\u001b[38;5;124m not found in axis\u001b[39m\u001b[38;5;124m\"\u001b[39m)\n\u001b[0;32m   7071\u001b[0m     indexer \u001b[38;5;241m=\u001b[39m indexer[\u001b[38;5;241m~\u001b[39mmask]\n\u001b[0;32m   7072\u001b[0m \u001b[38;5;28;01mreturn\u001b[39;00m \u001b[38;5;28mself\u001b[39m\u001b[38;5;241m.\u001b[39mdelete(indexer)\n",
      "\u001b[1;31mKeyError\u001b[0m: \"['InterestedIn', 'Orientation', 'Instagram', 'Spotify'] not found in axis\""
     ]
    }
   ],
   "source": [
    "sMale.drop(sMale[sMale[\"No_Of_Days\"]==0].index,inplace=True)\n",
    "sMale.drop(columns=[\"InterestedIn\",\"Orientation\",\"Instagram\",\"Spotify\",\"BirthDate\",\"CreateDate\"],inplace=True)"
   ]
  },
  {
   "cell_type": "code",
   "execution_count": 114,
   "metadata": {},
   "outputs": [
    {
     "name": "stdout",
     "output_type": "stream",
     "text": [
      "Mean Opens: 5772.691358024691\n",
      "Median Opens: 2688.5\n",
      "Deviation in Opens: 9619.540929379857\n",
      "Maximum Opens: 92628\n",
      "Minimum Opens: 2\n"
     ]
    }
   ],
   "source": [
    "print(\"Mean Opens: \"+str(sMale[\"Sum_App_Opens\"].mean()),\n",
    "      \"Median Opens: \"+str(sMale[\"Sum_App_Opens\"].median()),\n",
    "      \"Deviation in Opens: \"+str(sMale[\"Sum_App_Opens\"].std()),\n",
    "      \"Maximum Opens: \"+str(sMale[\"Sum_App_Opens\"].max()),\n",
    "      \"Minimum Opens: \"+str(sMale[\"Sum_App_Opens\"].min()),sep=\"\\n\")"
   ]
  },
  {
   "cell_type": "code",
   "execution_count": 128,
   "metadata": {},
   "outputs": [
    {
     "name": "stdout",
     "output_type": "stream",
     "text": [
      "Correlation Between Sum_App_Opens and No_Of_Matches: 0.6615425833432289\n",
      "Correlation Between Swipe Likes and No_Of_Matches: 0.6871915924856091\n",
      "Correlation Between User Age and No_Of_Matches: -0.04573758620128353\n",
      "Correlation Between AgeFilterMax and No_Of_Matches: 0.08664946675811055\n",
      "Correlation Between AgeFilterMin and No_Of_Matches: -0.11780277657675321\n"
     ]
    }
   ],
   "source": [
    "print(\"Correlation Between Sum_App_Opens and No_Of_Matches: \"+str(sMale[\"Sum_App_Opens\"].corr(sMale[\"No_Of_Matches\"])))\n",
    "print(\"Correlation Between Swipe Likes and No_Of_Matches: \"+str(sMale[\"Swipe_Likes\"].corr(sMale[\"No_Of_Matches\"])))\n",
    "print(\"Correlation Between User Age and No_Of_Matches: \"+str(sMale[\"UserAge\"].corr(sMale[\"No_Of_Matches\"])))\n",
    "print(\"Correlation Between AgeFilterMax and No_Of_Matches: \"+str(sMale[\"AgeFilterMax\"].corr(sMale[\"No_Of_Matches\"])))\n",
    "print(\"Correlation Between AgeFilterMin and No_Of_Matches: \"+str(sMale[\"AgeFilterMin\"].corr(sMale[\"No_Of_Matches\"])))\n"
   ]
  },
  {
   "cell_type": "code",
   "execution_count": 146,
   "metadata": {},
   "outputs": [
    {
     "name": "stdout",
     "output_type": "stream",
     "text": [
      "['unknown' 'Product Engineer' 'Civil Engineer' 'Technical Intern'\n",
      " 'Consultant' 'Master International Business' 'Developer'\n",
      " 'Operations Manager' \"Master's Student in Computer Science\"\n",
      " 'Entrepreneur' 'Android Developer' 'IT Specialist for System Integration'\n",
      " '\"Planarkitekt' '\"philosophie' 'Computer Science' 'Website Programmeur'\n",
      " 'Research Assistant' 'History Student' 'Security Officer' 'False'\n",
      " 'Product Manager' 'Senior Innovation Manager' 'poker player'\n",
      " 'Swim instructor' 'Receptionist' 'systems engineer' 'Software Developer'\n",
      " 'Software Engineer' 'Cyber Security Technician' 'Servicedesk'\n",
      " 'Media Analyst' 'Ingenieur' 'Pfizer Vaccine Distributor' 'Management'\n",
      " '30 euros away from collecting bottles' 'Snake Charmer but not really'\n",
      " 'Engineer' 'Editor' 'Self-Employed' 'Software engineer' 'Researcher'\n",
      " 'Office Production Assistant' 'Biomedical Engineering Student'\n",
      " 'Property Management' 'Pharmaceutical Analyst' 'Private Equity'\n",
      " 'Software developer' 'Hedge Fund Quant Trader'\n",
      " 'Marketing & Business Development Manager' 'Web Developer'\n",
      " 'Engineering Manager' 'Specialty Service' 'Student'\n",
      " 'PhD in Computational Biology' 'Data Analyst' 'Mechanical Engineer'\n",
      " 'Manufacturing' 'Technical Artist' 'Full Stack Web Developer'\n",
      " 'Big boy job' 'Research & Development Engineer'\n",
      " 'Statistic Processing Officer' 'Director of Technology' 'Accountant'\n",
      " 'Public Service' 'App Developer' 'Graphiste Motion Designer' 'Physician'\n",
      " 'Video Production' 'Team Leader' 'Racing Mechanic' 'Manager'\n",
      " 'IT Technician' '\"Trust Me' 'software developer' 'Scientist'\n",
      " 'Computer Engineer' 'Software engeneer' 'Etudiant'\n",
      " 'Prediction Market Trader' 'Truss Designer' 'Sr. Director'\n",
      " 'Home Theater Agent' 'Med Student' '\"Engineer' 'Marketing' 'Sales'\n",
      " 'Founding Designer' 'Product designer' 'Application Development Analyst'\n",
      " 'Owner' 'Peasant Manager' 'Architecte IT' 'Data Scientist'\n",
      " 'Softwaredeveloper' 'Plant Mechanic' 'Financial Tech' 'Surgery Dept'\n",
      " 'Video Engineer' 'Paraeducator' 'Robotics Engineer'\n",
      " 'Worker (Wage Earner)' 'IT Helpdesk Engineer' 'Macgyver'\n",
      " 'Project Development Officer' 'Hardware Developer' 'DevOps Engineer'\n",
      " 'Temporarily in Production' 'Professor' 'Management consultant'\n",
      " 'Engineering' 'Graphic Designer' 'Lifeguard' 'Electromancer'\n",
      " 'Commodity trading' 'Executive Director' 'Digital nomad'\n",
      " 'Software Engineering Manager' 'Software Engineer Intern'\n",
      " 'Data Analyst & Software developer' 'Robot' 'Live Video Engineer'\n",
      " 'Systemvetare' '3d animator' 'IT Marketeer' 'System Developer'\n",
      " 'Medicinal Chemist' 'Scrummaster- TECDP Lead Analyst' 'Lyft'\n",
      " 'Photographer' 'Sound Engineer' 'Graduating Student' \"McDonald's\"\n",
      " 'very tall' 'Village Idiot' 'IT Security Analyst' 'Sidi'\n",
      " 'Financial Markets' 'PhD Student' 'It Helpdesk' 'Engineering Intern'\n",
      " 'Technology Consultant' 'Server' 'ig. okkedries' 'Website Owner'\n",
      " 'Web Dev' 'Machine Learning Engineer' 'Senior TPM' 'Trucker' 'Astronaut'\n",
      " 'IT-tech' 'Automation Systems Analyst' 'Technology Analyst' 'Writer'\n",
      " 'Chemist' 'Professional Model and Writer' 'Pilot'\n",
      " 'Technical Software Architect' 'IT Engineer' 'Webdev'\n",
      " 'Computer Science Student' 'Ethical Hacker' 'CEO'\n",
      " 'Associate Program Manager' 'Investor' 'Dental Student' 'Plant Engineer'\n",
      " 'Digital Project Manager' 'Electrician' 'Senior Software Engineer'\n",
      " 'Office Manager' 'Project Engineer' 'Materials Engineer' 'Game Developer'\n",
      " 'PhD Chemist' 'Customer Service Analyst' 'Exhibit Designer'\n",
      " 'Biologielaborant' 'CR Writer' 'Chemical Engineer' 'EMEA Project Manager'\n",
      " 'woke bae' 'I deal with tourists' 'System Engineer' 'Business Manager'\n",
      " 'Partner' 'graphic designer' 'Data Analyst & Developer' 'Driver' 'Cadet'\n",
      " 'Webdesigner & Developer' 'Moonshiner' 'Ski Instructor - Entrepreneur'\n",
      " 'Product Owner en Mede-eigenaar' '\"Front-End Developer' 'Mycologist'\n",
      " 'Operations Research Analyst' 'Service Coordinator' 'Rechtsreferendar'\n",
      " 'Therapist' 'Metal Fabrication' 'Energy Trader' 'carer' '\"Owner'\n",
      " '\"co-founder' 'Wage slave at late stage capitalism'\n",
      " 'Clinical Social Worker']\n"
     ]
    }
   ],
   "source": [
    "unique_job=sMale[\"JobTitle\"].unique()\n",
    "print(unique_job)"
   ]
  },
  {
   "cell_type": "code",
   "execution_count": 147,
   "metadata": {},
   "outputs": [
    {
     "name": "stdout",
     "output_type": "stream",
     "text": [
      "JobTitle\n",
      "unknown                   514\n",
      "False                      25\n",
      "Software Engineer          24\n",
      "Software Developer          7\n",
      "Student                     6\n",
      "                         ... \n",
      "Med Student                 1\n",
      "\"Engineer                   1\n",
      "Marketing                   1\n",
      "Sales                       1\n",
      "Clinical Social Worker      1\n",
      "Name: count, Length: 207, dtype: int64\n"
     ]
    }
   ],
   "source": [
    "job_freq=sMale[\"JobTitle\"].value_counts()\n",
    "print(job_freq)"
   ]
  },
  {
   "cell_type": "code",
   "execution_count": 149,
   "metadata": {},
   "outputs": [],
   "source": [
    "job_stat = sMale.groupby(\"JobTitle\").agg(FreqOfJob=(\"JobTitle\",\"count\"),TotalMatches=(\"No_Of_Matches\",\"sum\"),MeanNoOfMatches=(\"No_Of_Matches\",\"mean\"),MedianNoOfMatches=(\"No_Of_Matches\",\"median\"),MaxNoOfMatches=(\"No_Of_Matches\",\"max\"),MinNoOfMatches=(\"No_Of_Matches\",\"min\"))"
   ]
  },
  {
   "cell_type": "code",
   "execution_count": 151,
   "metadata": {},
   "outputs": [
    {
     "name": "stdout",
     "output_type": "stream",
     "text": [
      "                               FreqOfJob  TotalMatches  MeanNoOfMatches  \\\n",
      "JobTitle                                                                  \n",
      "unknown                              514        303502       590.470817   \n",
      "Entrepreneur                           4         26551      6637.750000   \n",
      "Software Developer                     7         17216      2459.428571   \n",
      "False                                 25         11597       463.880000   \n",
      "Professional Model and Writer          1         11099     11099.000000   \n",
      "\n",
      "                               MedianNoOfMatches  MaxNoOfMatches  \\\n",
      "JobTitle                                                           \n",
      "unknown                                    137.0           22120   \n",
      "Entrepreneur                              1370.0           23758   \n",
      "Software Developer                          50.0           13104   \n",
      "False                                      187.0            3316   \n",
      "Professional Model and Writer            11099.0           11099   \n",
      "\n",
      "                               MinNoOfMatches  \n",
      "JobTitle                                       \n",
      "unknown                                     0  \n",
      "Entrepreneur                               53  \n",
      "Software Developer                          1  \n",
      "False                                       9  \n",
      "Professional Model and Writer           11099  \n"
     ]
    }
   ],
   "source": [
    "job_stat.sort_values(by=\"TotalMatches\",ascending=False,inplace=True)\n",
    "print(job_stat.head())"
   ]
  },
  {
   "cell_type": "code",
   "execution_count": 117,
   "metadata": {},
   "outputs": [
    {
     "name": "stdout",
     "output_type": "stream",
     "text": [
      "No_Of_Conversations\n",
      "0        16\n",
      "4        14\n",
      "2        14\n",
      "5        13\n",
      "23       11\n",
      "         ..\n",
      "121       1\n",
      "12642     1\n",
      "130       1\n",
      "142       1\n",
      "361       1\n",
      "Name: count, Length: 368, dtype: int64\n"
     ]
    }
   ],
   "source": [
    "print(sMale[\"No_Of_Conversations\"].value_counts())"
   ]
  },
  {
   "cell_type": "code",
   "execution_count": 120,
   "metadata": {},
   "outputs": [
    {
     "name": "stdout",
     "output_type": "stream",
     "text": [
      "Mean Success Matches: 153.4246913580247\n",
      "Median Success Matches: 45.0\n",
      "Deviation in Success Matches: 467.0894493072048\n",
      "Maximum Success Matches: 9363\n",
      "Minimum Success Matches: 0\n"
     ]
    }
   ],
   "source": [
    "match_fails=sMale[\"No_Of_One_Message_Conversations\"]+sMale[\"No_Of_GhostingsAfterInitialMessage\"]\n",
    "match_success=sMale[\"No_Of_Conversations\"]-match_fails\n",
    "print(\"Mean Success Matches: \"+str(match_success.mean()),\n",
    "      \"Median Success Matches: \"+str(match_success.median()),\n",
    "      \"Deviation in Success Matches: \"+str(match_success.std()),\n",
    "      \"Maximum Success Matches: \"+str(match_success.max()),\n",
    "      \"Minimum Success Matches: \"+str(match_success.min()),sep=\"\\n\")\n"
   ]
  },
  {
   "cell_type": "code",
   "execution_count": 121,
   "metadata": {},
   "outputs": [
    {
     "name": "stdout",
     "output_type": "stream",
     "text": [
      "Mean Swipe Success: 0.013349774813131878\n",
      "Median Swipe Success: 0.006664384802786558\n",
      "Deviation in Swipe Success: 0.021791461661905456\n",
      "Maximum Swipe Success: 0.275\n",
      "Minimum Swipe Success: 0.0\n"
     ]
    }
   ],
   "source": [
    "swipe_success = sMale[\"No_Of_Matches\"]/(sMale[\"Swipe_Likes\"]+ sMale[\"Swipe_Passes\"])\n",
    "print(\"Mean Swipe Success: \"+str(swipe_success.mean()),\n",
    "      \"Median Swipe Success: \"+str(swipe_success.median()),\n",
    "      \"Deviation in Swipe Success: \"+str(swipe_success.std()),\n",
    "      \"Maximum Swipe Success: \"+str(swipe_success.max()),\n",
    "      \"Minimum Swipe Success: \"+str(swipe_success.min()),sep=\"\\n\")"
   ]
  },
  {
   "cell_type": "code",
   "execution_count": 124,
   "metadata": {},
   "outputs": [
    {
     "data": {
      "image/png": "[encoded data removed]",
      "text/plain": [
       "<Figure size 640x480 with 1 Axes>"
      ]
     },
     "metadata": {},
     "output_type": "display_data"
    }
   ],
   "source": [
    "import seaborn as sns\n",
    "import matplotlib.pyplot as plt\n",
    "sns.scatterplot(data=sMale,x=\"Swipe_Likes\",y=\"Swipe_Passes\",hue=\"No_Of_Matches\")\n",
    "plt.title(\"Swipe Likes vs Swipe Passes vs No_Of_Matches\")\n",
    "plt.show()"
   ]
  },
  {
   "cell_type": "code",
   "execution_count": null,
   "metadata": {},
   "outputs": [],
   "source": [
    "sMale[\"launchPerDay\"]=sMale.apply(lambda x: x[\"Sum_App_Opens\"]/x[\"No_Of_Days\"],axis=1)\n",
    "sMale[\"LikelyDateConversationRatio\"]=sMale.apply(lambda x: x[\"LongestConversation\"]/x[\"No_Of_Conversations\"] if x[\"No_Of_Conversations\"]!=0 else 0,axis=1)\n",
    "sMale[\"FailedMatches\"]=sMale[\"No_Of_One_Message_Conversations\"]+sMale[\"No_Of_GhostingsAfterInitialMessage\"]\n",
    "sMale[\"SuccessMatches\"]=sMale[\"No_Of_Conversations\"]-sMale[\"FailedMatches\"]\n",
    "sMale[\"SuccessMatchRatio\"]=sMale.apply(lambda x: x[\"SuccessMatches\"]/x[\"No_Of_Conversations\"] if x[\"No_Of_Conversations\"]!=0 else 0,axis=1)\n",
    "sMale[\"MatchRatio\"]=sMale.apply(lambda x: x[\"No_Of_Matches\"]/x[\"Swipe_Likes\"] if x[\"Swipe_Likes\"]!=0 else 0,axis=1)"
   ]
  }
 ],
 "metadata": {
  "kernelspec": {
   "display_name": "DataAnalysis",
   "language": "python",
   "name": "python3"
  },
  "language_info": {
   "codemirror_mode": {
    "name": "ipython",
    "version": 3
   },
   "file_extension": ".py",
   "mimetype": "text/x-python",
   "name": "python",
   "nbconvert_exporter": "python",
   "pygments_lexer": "ipython3",
   "version": "3.12.8"
  }
 },
 "nbformat": 4,
 "nbformat_minor": 2
}
